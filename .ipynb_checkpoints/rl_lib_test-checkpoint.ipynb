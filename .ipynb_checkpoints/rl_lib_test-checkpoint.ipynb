{
 "cells": [
  {
   "cell_type": "code",
   "execution_count": 2,
   "id": "d9cab981",
   "metadata": {},
   "outputs": [],
   "source": [
    "from model import build_model\n",
    "from rl_lib.agents import DQNAgent\n",
    "from rl_lib.memory import ReplayMemory\n",
    "from rl_lib.policy import EpsilonGreedyQPolicy, GreedyQPolicy\n",
    "from rl_lib.epsilon_decay import EpisodicDecay\n",
    "\n",
    "import gym"
   ]
  },
  {
   "cell_type": "code",
   "execution_count": 3,
   "id": "fab60c7e",
   "metadata": {},
   "outputs": [],
   "source": [
    "def build_agent(model, target_model, nb_actions):\n",
    "    memory = ReplayMemory(10000)\n",
    "    decay = EpisodicDecay()\n",
    "    policy = EpsilonGreedyQPolicy(eps=0.1)\n",
    "    test_policy = GreedyQPolicy()\n",
    "    return DQNAgent(nb_actions, model, memory, policy, test_policy, target_model)"
   ]
  },
  {
   "cell_type": "code",
   "execution_count": 4,
   "id": "ea181df5",
   "metadata": {},
   "outputs": [],
   "source": [
    "env = gym.make('CartPole-v0')\n",
    "nb_actions = env.action_space.n\n",
    "state_shape = (1, env.observation_space.shape[0])"
   ]
  },
  {
   "cell_type": "code",
   "execution_count": 5,
   "id": "6fbf9cd2",
   "metadata": {},
   "outputs": [],
   "source": [
    "model = build_model(state_shape, nb_actions)\n",
    "model.compile(optimizer='adam', loss='mse', metrics=['mse'])\n",
    "target_model = build_model(state_shape, nb_actions)\n",
    "target_model.compile(optimizer='adam', loss='mse', metrics=['mse'])\n",
    "agent = build_agent(model, target_model, nb_actions)"
   ]
  },
  {
   "cell_type": "code",
   "execution_count": 6,
   "id": "22f06780",
   "metadata": {},
   "outputs": [
    {
     "name": "stdout",
     "output_type": "stream",
     "text": [
      "WARNING:tensorflow:Model was constructed with shape (None, 1, 4) for input KerasTensor(type_spec=TensorSpec(shape=(None, 1, 4), dtype=tf.float32, name='flatten_input'), name='flatten_input', description=\"created by layer 'flatten_input'\"), but it was called on an input with incompatible shape (None, 4).\n"
     ]
    }
   ],
   "source": [
    "agent.warmup(env, 100)"
   ]
  },
  {
   "cell_type": "code",
   "execution_count": 7,
   "id": "b60b4668",
   "metadata": {},
   "outputs": [
    {
     "name": "stdout",
     "output_type": "stream",
     "text": [
      "WARNING:tensorflow:Model was constructed with shape (None, 1, 4) for input KerasTensor(type_spec=TensorSpec(shape=(None, 1, 4), dtype=tf.float32, name='flatten_input'), name='flatten_input', description=\"created by layer 'flatten_input'\"), but it was called on an input with incompatible shape (32, 4).\n",
      "WARNING:tensorflow:Model was constructed with shape (None, 1, 4) for input KerasTensor(type_spec=TensorSpec(shape=(None, 1, 4), dtype=tf.float32, name='flatten_input'), name='flatten_input', description=\"created by layer 'flatten_input'\"), but it was called on an input with incompatible shape (32, 4).\n",
      "WARNING:tensorflow:Model was constructed with shape (None, 1, 4) for input KerasTensor(type_spec=TensorSpec(shape=(None, 1, 4), dtype=tf.float32, name='flatten_input'), name='flatten_input', description=\"created by layer 'flatten_input'\"), but it was called on an input with incompatible shape (32, 4).\n",
      "1000/1000 Completed - 100.00%\r"
     ]
    },
    {
     "data": {
      "text/plain": [
       "{'episode_steps': [10,\n",
       "  11,\n",
       "  12,\n",
       "  11,\n",
       "  11,\n",
       "  11,\n",
       "  12,\n",
       "  10,\n",
       "  13,\n",
       "  10,\n",
       "  28,\n",
       "  11,\n",
       "  13,\n",
       "  11,\n",
       "  10,\n",
       "  104,\n",
       "  37,\n",
       "  28,\n",
       "  33,\n",
       "  48,\n",
       "  20,\n",
       "  47,\n",
       "  24,\n",
       "  45,\n",
       "  28,\n",
       "  40,\n",
       "  24,\n",
       "  35,\n",
       "  20,\n",
       "  27,\n",
       "  29,\n",
       "  19,\n",
       "  30,\n",
       "  35,\n",
       "  20,\n",
       "  39,\n",
       "  17,\n",
       "  30,\n",
       "  37,\n",
       "  32],\n",
       " 'episode_rewards': [9.0,\n",
       "  10.0,\n",
       "  11.0,\n",
       "  10.0,\n",
       "  10.0,\n",
       "  10.0,\n",
       "  11.0,\n",
       "  9.0,\n",
       "  12.0,\n",
       "  9.0,\n",
       "  27.0,\n",
       "  10.0,\n",
       "  12.0,\n",
       "  10.0,\n",
       "  9.0,\n",
       "  103.0,\n",
       "  36.0,\n",
       "  27.0,\n",
       "  32.0,\n",
       "  47.0,\n",
       "  19.0,\n",
       "  46.0,\n",
       "  23.0,\n",
       "  44.0,\n",
       "  27.0,\n",
       "  39.0,\n",
       "  23.0,\n",
       "  34.0,\n",
       "  19.0,\n",
       "  26.0,\n",
       "  28.0,\n",
       "  18.0,\n",
       "  29.0,\n",
       "  34.0,\n",
       "  19.0,\n",
       "  38.0,\n",
       "  16.0,\n",
       "  29.0,\n",
       "  36.0,\n",
       "  31.0]}"
      ]
     },
     "execution_count": 7,
     "metadata": {},
     "output_type": "execute_result"
    }
   ],
   "source": [
    "agent.fit(env, 1000)"
   ]
  },
  {
   "cell_type": "code",
   "execution_count": null,
   "id": "754687fa",
   "metadata": {},
   "outputs": [],
   "source": [
    "agent.test(env, 100, visualize=False)"
   ]
  },
  {
   "cell_type": "code",
   "execution_count": 8,
   "id": "3b0d5b47",
   "metadata": {},
   "outputs": [
    {
     "data": {
      "text/plain": [
       "0.1"
      ]
     },
     "execution_count": 8,
     "metadata": {},
     "output_type": "execute_result"
    }
   ],
   "source": [
    "agent.policy.eps"
   ]
  },
  {
   "cell_type": "code",
   "execution_count": null,
   "id": "db38602a",
   "metadata": {},
   "outputs": [],
   "source": []
  }
 ],
 "metadata": {
  "kernelspec": {
   "display_name": "Python 3",
   "language": "python",
   "name": "python3"
  },
  "language_info": {
   "codemirror_mode": {
    "name": "ipython",
    "version": 3
   },
   "file_extension": ".py",
   "mimetype": "text/x-python",
   "name": "python",
   "nbconvert_exporter": "python",
   "pygments_lexer": "ipython3",
   "version": "3.7.9"
  }
 },
 "nbformat": 4,
 "nbformat_minor": 5
}
