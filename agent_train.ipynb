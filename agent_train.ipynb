{
 "metadata": {
  "language_info": {
   "codemirror_mode": {
    "name": "ipython",
    "version": 3
   },
   "file_extension": ".py",
   "mimetype": "text/x-python",
   "name": "python",
   "nbconvert_exporter": "python",
   "pygments_lexer": "ipython3",
   "version": "3.7.9"
  },
  "orig_nbformat": 2,
  "kernelspec": {
   "name": "python379jvsc74a57bd02a1e6c2763b6515e166cf9032a56801b0a618da2a2267b176921dcc8269a648a",
   "display_name": "Python 3.7.9 64-bit"
  }
 },
 "nbformat": 4,
 "nbformat_minor": 2,
 "cells": [
  {
   "source": [
    "from env.env import SnakeEnv\n",
    "from nn.model import Model\n",
    "from nn.agent import Agent"
   ],
   "cell_type": "code",
   "metadata": {},
   "execution_count": 1,
   "outputs": []
  },
  {
   "cell_type": "code",
   "execution_count": 2,
   "metadata": {},
   "outputs": [],
   "source": [
    "env = SnakeEnv()"
   ]
  },
  {
   "cell_type": "code",
   "execution_count": 3,
   "metadata": {},
   "outputs": [],
   "source": [
    "state_shape = (1,) + env.observation_space.shape\n",
    "nb_actions = env.action_space.nb_actions\n",
    "memory_limit = 10000\n",
    "eps_max_value = 1.\n",
    "eps_min_value = 0.001\n",
    "training_nb_steps = 50000\n",
    "eps_decay_nb_steps = training_nb_steps // 5\n"
   ]
  },
  {
   "cell_type": "code",
   "execution_count": 4,
   "metadata": {},
   "outputs": [],
   "source": [
    "model = Model.build_model(state_shape, nb_actions, name='Snake-Model')"
   ]
  },
  {
   "cell_type": "code",
   "execution_count": 5,
   "metadata": {},
   "outputs": [
    {
     "output_type": "stream",
     "name": "stdout",
     "text": [
      "Model: \"Snake-Model\"\n_________________________________________________________________\nLayer (type)                 Output Shape              Param #   \n=================================================================\nflatten (Flatten)            (None, 255)               0         \n_________________________________________________________________\ndense (Dense)                (None, 32)                8192      \n_________________________________________________________________\ndense_1 (Dense)              (None, 32)                1056      \n_________________________________________________________________\ndense_2 (Dense)              (None, 64)                2112      \n_________________________________________________________________\ndense_3 (Dense)              (None, 128)               8320      \n_________________________________________________________________\ndense_4 (Dense)              (None, 4)                 516       \n=================================================================\nTotal params: 20,196\nTrainable params: 20,196\nNon-trainable params: 0\n_________________________________________________________________\n"
     ]
    }
   ],
   "source": [
    "model.summary()"
   ]
  },
  {
   "cell_type": "code",
   "execution_count": 5,
   "metadata": {},
   "outputs": [],
   "source": [
    "agent = Agent.build_agent(model, nb_actions, memory_limit, eps_max_value, eps_min_value, eps_decay_nb_steps)"
   ]
  },
  {
   "cell_type": "code",
   "execution_count": 6,
   "metadata": {},
   "outputs": [],
   "source": [
    "agent.compile('adam', metrics=['mae'])"
   ]
  },
  {
   "cell_type": "code",
   "execution_count": 8,
   "metadata": {},
   "outputs": [
    {
     "output_type": "stream",
     "name": "stdout",
     "text": [
      "Training for 50000 steps ...\n",
      "Interval 1 (0 steps performed)\n",
      "   28/10000 [..............................] - ETA: 18s - reward: -358.1071C:\\Users\\SodaMan\\AppData\\Local\\Programs\\Python\\Python37\\lib\\site-packages\\tensorflow\\python\\keras\\engine\\training.py:2426: UserWarning: `Model.state_updates` will be removed in a future version. This property should not be used in TensorFlow 2.0, as `updates` are applied automatically.\n",
      "  warnings.warn('`Model.state_updates` will be removed in a future version. '\n",
      "10000/10000 [==============================] - 137s 14ms/step - reward: -635.7637\n",
      "635 episodes - episode_reward: -10012.027 [-10087.000, -9944.000] - loss: 2180517.534 - mae: 548.626 - mean_q: -388.056 - mean_eps: 0.451\n",
      "\n",
      "Interval 2 (10000 steps performed)\n",
      "10000/10000 [==============================] - 151s 15ms/step - reward: -1109.7919\n",
      "1109 episodes - episode_reward: -10007.137 [-10020.000, -9947.000] - loss: 3828354.038 - mae: 1546.289 - mean_q: -1442.946 - mean_eps: 0.001\n",
      "\n",
      "Interval 3 (20000 steps performed)\n",
      "10000/10000 [==============================] - 142s 14ms/step - reward: -1101.7423\n",
      "1101 episodes - episode_reward: -10006.743 [-10027.000, -9936.000] - loss: 3422118.764 - mae: 2357.004 - mean_q: -2496.260 - mean_eps: 0.001\n",
      "\n",
      "Interval 4 (30000 steps performed)\n",
      "10000/10000 [==============================] - 142s 14ms/step - reward: -1097.7679\n",
      "1097 episodes - episode_reward: -10006.999 [-10016.000, -9941.000] - loss: 2673314.475 - mae: 2945.019 - mean_q: -3350.663 - mean_eps: 0.001\n",
      "\n",
      "Interval 5 (40000 steps performed)\n",
      "10000/10000 [==============================] - 134s 13ms/step - reward: -1090.7506\n",
      "done, took 705.589 seconds\n"
     ]
    }
   ],
   "source": [
    "training_history = agent.fit(env, training_nb_steps, visualize=False, verbose=1)"
   ]
  },
  {
   "cell_type": "code",
   "execution_count": 9,
   "metadata": {},
   "outputs": [],
   "source": [
    "agent.load_weights('snake_model_weights.h5')"
   ]
  },
  {
   "cell_type": "code",
   "execution_count": 15,
   "metadata": {},
   "outputs": [],
   "source": [
    "agent.save_weights('snake_model_weights.h5', overwrite=True)"
   ]
  },
  {
   "cell_type": "code",
   "execution_count": 10,
   "metadata": {},
   "outputs": [
    {
     "output_type": "stream",
     "name": "stdout",
     "text": [
      "Testing for 10 episodes ...\n",
      "C:\\Users\\SodaMan\\AppData\\Local\\Programs\\Python\\Python37\\lib\\site-packages\\tensorflow\\python\\keras\\engine\\training.py:2426: UserWarning: `Model.state_updates` will be removed in a future version. This property should not be used in TensorFlow 2.0, as `updates` are applied automatically.\n",
      "  warnings.warn('`Model.state_updates` will be removed in a future version. '\n",
      "Episode 1: reward: -999.348, steps: 9\n",
      "Episode 2: reward: -999.453, steps: 9\n",
      "Episode 3: reward: -999.340, steps: 9\n",
      "Episode 4: reward: -999.389, steps: 9\n",
      "Episode 5: reward: -998.937, steps: 9\n",
      "Episode 6: reward: -998.968, steps: 9\n",
      "Episode 7: reward: -998.787, steps: 9\n",
      "Episode 8: reward: -998.653, steps: 9\n",
      "Episode 9: reward: -998.543, steps: 9\n",
      "Episode 10: reward: -999.408, steps: 9\n"
     ]
    },
    {
     "output_type": "execute_result",
     "data": {
      "text/plain": [
       "<tensorflow.python.keras.callbacks.History at 0x2653547a108>"
      ]
     },
     "metadata": {},
     "execution_count": 10
    }
   ],
   "source": [
    "agent.test(env, 10, visualize=True)"
   ]
  },
  {
   "cell_type": "code",
   "execution_count": 12,
   "metadata": {},
   "outputs": [],
   "source": [
    "env.close()"
   ]
  },
  {
   "cell_type": "code",
   "execution_count": null,
   "metadata": {},
   "outputs": [],
   "source": []
  }
 ]
}