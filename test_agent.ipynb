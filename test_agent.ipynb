{
 "metadata": {
  "language_info": {
   "codemirror_mode": {
    "name": "ipython",
    "version": 3
   },
   "file_extension": ".py",
   "mimetype": "text/x-python",
   "name": "python",
   "nbconvert_exporter": "python",
   "pygments_lexer": "ipython3",
   "version": "3.8.6"
  },
  "orig_nbformat": 4,
  "kernelspec": {
   "name": "python3",
   "display_name": "Python 3.8.6 64-bit"
  },
  "interpreter": {
   "hash": "e2630db877554ab41b70bf6336cf7d5285fb2ed601bdc7e74a0aab316f26abf1"
  }
 },
 "nbformat": 4,
 "nbformat_minor": 2,
 "cells": [
  {
   "cell_type": "code",
   "execution_count": 1,
   "metadata": {},
   "outputs": [],
   "source": [
    "from env.env import SnakeEnv\n",
    "from nn.model import Model\n",
    "from nn.agent import Agent"
   ]
  },
  {
   "cell_type": "code",
   "execution_count": 2,
   "metadata": {},
   "outputs": [],
   "source": [
    "env = SnakeEnv()"
   ]
  },
  {
   "cell_type": "code",
   "execution_count": 3,
   "metadata": {},
   "outputs": [],
   "source": [
    "state_shape = (1,) + env.observation_space.shape\n",
    "nb_actions = env.action_space.nb_actions\n",
    "memory_limit = 10000\n",
    "eps_max_value = 1.\n",
    "eps_min_value = 0.01\n",
    "training_nb_steps = 1000000\n",
    "eps_decay_nb_steps = training_nb_steps // 5"
   ]
  },
  {
   "cell_type": "code",
   "execution_count": 4,
   "metadata": {},
   "outputs": [],
   "source": [
    "model = Model.build_model(state_shape, nb_actions, name='Snake-Model')\n",
    "agent = Agent.build_agent(model, nb_actions, memory_limit, eps_max_value, eps_min_value, eps_decay_nb_steps)\n",
    "agent.compile('adam', metrics=['mae'])"
   ]
  },
  {
   "cell_type": "code",
   "execution_count": 6,
   "metadata": {},
   "outputs": [],
   "source": [
    "agent.load_weights('snake_model_weights.h5')"
   ]
  },
  {
   "cell_type": "code",
   "execution_count": 12,
   "metadata": {},
   "outputs": [
    {
     "output_type": "stream",
     "name": "stdout",
     "text": [
      "Testing for 100 episodes ...\n",
      "Episode 1: reward: -100.000, steps: 11\n",
      "Episode 2: reward: -100.000, steps: 13\n",
      "Episode 3: reward: -100.000, steps: 8\n",
      "Episode 4: reward: -100.000, steps: 9\n",
      "Episode 5: reward: -100.000, steps: 8\n",
      "Episode 6: reward: -100.000, steps: 15\n",
      "Episode 7: reward: -100.000, steps: 10\n",
      "Episode 8: reward: -100.000, steps: 8\n",
      "Episode 9: reward: -100.000, steps: 8\n",
      "Episode 10: reward: -100.000, steps: 8\n",
      "Episode 11: reward: -100.000, steps: 8\n",
      "Episode 12: reward: -100.000, steps: 8\n",
      "Episode 13: reward: -100.000, steps: 8\n",
      "Episode 14: reward: -100.000, steps: 8\n",
      "Episode 15: reward: -100.000, steps: 8\n",
      "Episode 16: reward: -100.000, steps: 8\n",
      "Episode 17: reward: -100.000, steps: 11\n",
      "Episode 18: reward: -100.000, steps: 8\n",
      "Episode 19: reward: 0.000, steps: 1000\n",
      "Episode 20: reward: -100.000, steps: 8\n",
      "Episode 21: reward: -100.000, steps: 11\n",
      "Episode 22: reward: -100.000, steps: 8\n",
      "Episode 23: reward: -100.000, steps: 8\n",
      "Episode 24: reward: -100.000, steps: 8\n",
      "Episode 25: reward: -100.000, steps: 8\n",
      "Episode 26: reward: -100.000, steps: 8\n",
      "Episode 27: reward: -100.000, steps: 8\n",
      "Episode 28: reward: -100.000, steps: 9\n",
      "Episode 29: reward: 0.000, steps: 1000\n",
      "Episode 30: reward: -100.000, steps: 8\n",
      "Episode 31: reward: -100.000, steps: 21\n",
      "Episode 32: reward: -100.000, steps: 21\n",
      "Episode 33: reward: -100.000, steps: 9\n",
      "Episode 34: reward: -100.000, steps: 10\n",
      "Episode 35: reward: -100.000, steps: 8\n",
      "Episode 36: reward: -100.000, steps: 9\n",
      "Episode 37: reward: -100.000, steps: 8\n",
      "Episode 38: reward: -100.000, steps: 9\n",
      "Episode 39: reward: -100.000, steps: 8\n",
      "Episode 40: reward: -100.000, steps: 8\n",
      "Episode 41: reward: -99.000, steps: 10\n",
      "Episode 42: reward: -100.000, steps: 8\n",
      "Episode 43: reward: -100.000, steps: 9\n",
      "Episode 44: reward: -100.000, steps: 8\n",
      "Episode 45: reward: -100.000, steps: 11\n",
      "Episode 46: reward: -100.000, steps: 9\n",
      "Episode 47: reward: -100.000, steps: 31\n",
      "Episode 48: reward: -100.000, steps: 10\n",
      "Episode 49: reward: -100.000, steps: 8\n",
      "Episode 50: reward: -100.000, steps: 31\n",
      "Episode 51: reward: -100.000, steps: 10\n",
      "Episode 52: reward: -100.000, steps: 11\n",
      "Episode 53: reward: -100.000, steps: 15\n",
      "Episode 54: reward: -100.000, steps: 8\n",
      "Episode 55: reward: -100.000, steps: 10\n",
      "Episode 56: reward: -100.000, steps: 8\n",
      "Episode 57: reward: -100.000, steps: 8\n",
      "Episode 58: reward: -100.000, steps: 21\n",
      "Episode 59: reward: -100.000, steps: 8\n",
      "Episode 60: reward: -100.000, steps: 8\n",
      "Episode 61: reward: -100.000, steps: 12\n",
      "Episode 62: reward: -100.000, steps: 8\n",
      "Episode 63: reward: -100.000, steps: 8\n",
      "Episode 64: reward: -100.000, steps: 8\n",
      "Episode 65: reward: -100.000, steps: 8\n",
      "Episode 66: reward: -100.000, steps: 8\n",
      "Episode 67: reward: -100.000, steps: 8\n",
      "Episode 68: reward: -100.000, steps: 10\n",
      "Episode 69: reward: -100.000, steps: 8\n",
      "Episode 70: reward: -98.000, steps: 16\n",
      "Episode 71: reward: -100.000, steps: 12\n",
      "Episode 72: reward: -100.000, steps: 8\n",
      "Episode 73: reward: -100.000, steps: 9\n",
      "Episode 74: reward: -100.000, steps: 15\n",
      "Episode 75: reward: -100.000, steps: 8\n",
      "Episode 76: reward: -100.000, steps: 9\n",
      "Episode 77: reward: -100.000, steps: 8\n",
      "Episode 78: reward: -100.000, steps: 9\n",
      "Episode 79: reward: -100.000, steps: 8\n",
      "Episode 80: reward: -100.000, steps: 8\n",
      "Episode 81: reward: -100.000, steps: 8\n",
      "Episode 82: reward: -100.000, steps: 8\n",
      "Episode 83: reward: -100.000, steps: 15\n",
      "Episode 84: reward: -100.000, steps: 8\n",
      "Episode 85: reward: -100.000, steps: 8\n",
      "Episode 86: reward: -100.000, steps: 10\n",
      "Episode 87: reward: -100.000, steps: 8\n",
      "Episode 88: reward: -100.000, steps: 9\n",
      "Episode 89: reward: -100.000, steps: 8\n",
      "Episode 90: reward: -100.000, steps: 8\n",
      "Episode 91: reward: -100.000, steps: 8\n",
      "Episode 92: reward: -100.000, steps: 10\n",
      "Episode 93: reward: -100.000, steps: 8\n",
      "Episode 94: reward: -100.000, steps: 8\n",
      "Episode 95: reward: -100.000, steps: 8\n",
      "Episode 96: reward: -100.000, steps: 8\n",
      "Episode 97: reward: -100.000, steps: 8\n",
      "Episode 98: reward: -100.000, steps: 8\n",
      "Episode 99: reward: -99.000, steps: 34\n",
      "Episode 100: reward: -100.000, steps: 8\n"
     ]
    },
    {
     "output_type": "execute_result",
     "data": {
      "text/plain": [
       "<tensorflow.python.keras.callbacks.History at 0x27b5d31d280>"
      ]
     },
     "metadata": {},
     "execution_count": 12
    }
   ],
   "source": [
    "agent.test(env, 100, visualize=False, nb_max_episode_steps=1000)"
   ]
  },
  {
   "cell_type": "code",
   "execution_count": 10,
   "metadata": {},
   "outputs": [
    {
     "output_type": "stream",
     "name": "stdout",
     "text": [
      "Testing for 10 episodes ...\n",
      "Episode 1: reward: -100.000, steps: 8\n",
      "Episode 2: reward: -100.000, steps: 8\n",
      "Episode 3: reward: -100.000, steps: 8\n"
     ]
    },
    {
     "output_type": "error",
     "ename": "KeyboardInterrupt",
     "evalue": "",
     "traceback": [
      "\u001b[1;31m---------------------------------------------------------------------------\u001b[0m",
      "\u001b[1;31mKeyboardInterrupt\u001b[0m                         Traceback (most recent call last)",
      "\u001b[1;32m<ipython-input-10-726c58167962>\u001b[0m in \u001b[0;36m<module>\u001b[1;34m\u001b[0m\n\u001b[1;32m----> 1\u001b[1;33m \u001b[0magent\u001b[0m\u001b[1;33m.\u001b[0m\u001b[0mtest\u001b[0m\u001b[1;33m(\u001b[0m\u001b[0menv\u001b[0m\u001b[1;33m,\u001b[0m \u001b[1;36m10\u001b[0m\u001b[1;33m)\u001b[0m\u001b[1;33m\u001b[0m\u001b[1;33m\u001b[0m\u001b[0m\n\u001b[0m",
      "\u001b[1;32m~\\AppData\\Local\\Programs\\Python\\Python38\\lib\\site-packages\\rl\\core.py\u001b[0m in \u001b[0;36mtest\u001b[1;34m(self, env, nb_episodes, action_repetition, callbacks, visualize, nb_max_episode_steps, nb_max_start_steps, start_step_policy, verbose)\u001b[0m\n\u001b[0;32m    350\u001b[0m                     \u001b[1;32mif\u001b[0m \u001b[0mself\u001b[0m\u001b[1;33m.\u001b[0m\u001b[0mprocessor\u001b[0m \u001b[1;32mis\u001b[0m \u001b[1;32mnot\u001b[0m \u001b[1;32mNone\u001b[0m\u001b[1;33m:\u001b[0m\u001b[1;33m\u001b[0m\u001b[1;33m\u001b[0m\u001b[0m\n\u001b[0;32m    351\u001b[0m                         \u001b[0mobservation\u001b[0m\u001b[1;33m,\u001b[0m \u001b[0mr\u001b[0m\u001b[1;33m,\u001b[0m \u001b[0md\u001b[0m\u001b[1;33m,\u001b[0m \u001b[0minfo\u001b[0m \u001b[1;33m=\u001b[0m \u001b[0mself\u001b[0m\u001b[1;33m.\u001b[0m\u001b[0mprocessor\u001b[0m\u001b[1;33m.\u001b[0m\u001b[0mprocess_step\u001b[0m\u001b[1;33m(\u001b[0m\u001b[0mobservation\u001b[0m\u001b[1;33m,\u001b[0m \u001b[0mr\u001b[0m\u001b[1;33m,\u001b[0m \u001b[0md\u001b[0m\u001b[1;33m,\u001b[0m \u001b[0minfo\u001b[0m\u001b[1;33m)\u001b[0m\u001b[1;33m\u001b[0m\u001b[1;33m\u001b[0m\u001b[0m\n\u001b[1;32m--> 352\u001b[1;33m                     \u001b[0mcallbacks\u001b[0m\u001b[1;33m.\u001b[0m\u001b[0mon_action_end\u001b[0m\u001b[1;33m(\u001b[0m\u001b[0maction\u001b[0m\u001b[1;33m)\u001b[0m\u001b[1;33m\u001b[0m\u001b[1;33m\u001b[0m\u001b[0m\n\u001b[0m\u001b[0;32m    353\u001b[0m                     \u001b[0mreward\u001b[0m \u001b[1;33m+=\u001b[0m \u001b[0mr\u001b[0m\u001b[1;33m\u001b[0m\u001b[1;33m\u001b[0m\u001b[0m\n\u001b[0;32m    354\u001b[0m                     \u001b[1;32mfor\u001b[0m \u001b[0mkey\u001b[0m\u001b[1;33m,\u001b[0m \u001b[0mvalue\u001b[0m \u001b[1;32min\u001b[0m \u001b[0minfo\u001b[0m\u001b[1;33m.\u001b[0m\u001b[0mitems\u001b[0m\u001b[1;33m(\u001b[0m\u001b[1;33m)\u001b[0m\u001b[1;33m:\u001b[0m\u001b[1;33m\u001b[0m\u001b[1;33m\u001b[0m\u001b[0m\n",
      "\u001b[1;32m~\\AppData\\Local\\Programs\\Python\\Python38\\lib\\site-packages\\rl\\callbacks.py\u001b[0m in \u001b[0;36mon_action_end\u001b[1;34m(self, action, logs)\u001b[0m\n\u001b[0;32m     96\u001b[0m         \u001b[1;32mfor\u001b[0m \u001b[0mcallback\u001b[0m \u001b[1;32min\u001b[0m \u001b[0mself\u001b[0m\u001b[1;33m.\u001b[0m\u001b[0mcallbacks\u001b[0m\u001b[1;33m:\u001b[0m\u001b[1;33m\u001b[0m\u001b[1;33m\u001b[0m\u001b[0m\n\u001b[0;32m     97\u001b[0m             \u001b[1;32mif\u001b[0m \u001b[0mcallable\u001b[0m\u001b[1;33m(\u001b[0m\u001b[0mgetattr\u001b[0m\u001b[1;33m(\u001b[0m\u001b[0mcallback\u001b[0m\u001b[1;33m,\u001b[0m \u001b[1;34m'on_action_end'\u001b[0m\u001b[1;33m,\u001b[0m \u001b[1;32mNone\u001b[0m\u001b[1;33m)\u001b[0m\u001b[1;33m)\u001b[0m\u001b[1;33m:\u001b[0m\u001b[1;33m\u001b[0m\u001b[1;33m\u001b[0m\u001b[0m\n\u001b[1;32m---> 98\u001b[1;33m                 \u001b[0mcallback\u001b[0m\u001b[1;33m.\u001b[0m\u001b[0mon_action_end\u001b[0m\u001b[1;33m(\u001b[0m\u001b[0maction\u001b[0m\u001b[1;33m,\u001b[0m \u001b[0mlogs\u001b[0m\u001b[1;33m=\u001b[0m\u001b[0mlogs\u001b[0m\u001b[1;33m)\u001b[0m\u001b[1;33m\u001b[0m\u001b[1;33m\u001b[0m\u001b[0m\n\u001b[0m\u001b[0;32m     99\u001b[0m \u001b[1;33m\u001b[0m\u001b[0m\n\u001b[0;32m    100\u001b[0m \u001b[1;33m\u001b[0m\u001b[0m\n",
      "\u001b[1;32m~\\AppData\\Local\\Programs\\Python\\Python38\\lib\\site-packages\\rl\\callbacks.py\u001b[0m in \u001b[0;36mon_action_end\u001b[1;34m(self, action, logs)\u001b[0m\n\u001b[0;32m    358\u001b[0m     \u001b[1;32mdef\u001b[0m \u001b[0mon_action_end\u001b[0m\u001b[1;33m(\u001b[0m\u001b[0mself\u001b[0m\u001b[1;33m,\u001b[0m \u001b[0maction\u001b[0m\u001b[1;33m,\u001b[0m \u001b[0mlogs\u001b[0m\u001b[1;33m)\u001b[0m\u001b[1;33m:\u001b[0m\u001b[1;33m\u001b[0m\u001b[1;33m\u001b[0m\u001b[0m\n\u001b[0;32m    359\u001b[0m         \u001b[1;34m\"\"\" Render environment at the end of each action \"\"\"\u001b[0m\u001b[1;33m\u001b[0m\u001b[1;33m\u001b[0m\u001b[0m\n\u001b[1;32m--> 360\u001b[1;33m         \u001b[0mself\u001b[0m\u001b[1;33m.\u001b[0m\u001b[0menv\u001b[0m\u001b[1;33m.\u001b[0m\u001b[0mrender\u001b[0m\u001b[1;33m(\u001b[0m\u001b[0mmode\u001b[0m\u001b[1;33m=\u001b[0m\u001b[1;34m'human'\u001b[0m\u001b[1;33m)\u001b[0m\u001b[1;33m\u001b[0m\u001b[1;33m\u001b[0m\u001b[0m\n\u001b[0m\u001b[0;32m    361\u001b[0m \u001b[1;33m\u001b[0m\u001b[0m\n\u001b[0;32m    362\u001b[0m \u001b[1;33m\u001b[0m\u001b[0m\n",
      "\u001b[1;32mc:\\Users\\Tom\\Documents\\GitHub\\Snake-DQN\\env\\env.py\u001b[0m in \u001b[0;36mrender\u001b[1;34m(self, mode, user_control)\u001b[0m\n\u001b[0;32m    322\u001b[0m     \u001b[1;32mdef\u001b[0m \u001b[0mrender\u001b[0m\u001b[1;33m(\u001b[0m\u001b[0mself\u001b[0m\u001b[1;33m,\u001b[0m \u001b[0mmode\u001b[0m\u001b[1;33m=\u001b[0m\u001b[1;34m'human'\u001b[0m\u001b[1;33m,\u001b[0m \u001b[0muser_control\u001b[0m\u001b[1;33m=\u001b[0m\u001b[1;32mFalse\u001b[0m\u001b[1;33m)\u001b[0m\u001b[1;33m:\u001b[0m\u001b[1;33m\u001b[0m\u001b[1;33m\u001b[0m\u001b[0m\n\u001b[0;32m    323\u001b[0m         \u001b[1;32massert\u001b[0m \u001b[0mself\u001b[0m\u001b[1;33m.\u001b[0m\u001b[0mgui\u001b[0m \u001b[1;32mis\u001b[0m \u001b[1;32mnot\u001b[0m \u001b[1;32mNone\u001b[0m\u001b[1;33m,\u001b[0m \u001b[1;34m'self.render (SnakeEnv): gui must not be None'\u001b[0m\u001b[1;33m\u001b[0m\u001b[1;33m\u001b[0m\u001b[0m\n\u001b[1;32m--> 324\u001b[1;33m         \u001b[1;32mreturn\u001b[0m \u001b[0mself\u001b[0m\u001b[1;33m.\u001b[0m\u001b[0mgui\u001b[0m\u001b[1;33m.\u001b[0m\u001b[0mrender\u001b[0m\u001b[1;33m(\u001b[0m\u001b[0mmode\u001b[0m\u001b[1;33m,\u001b[0m \u001b[0muser_control\u001b[0m\u001b[1;33m)\u001b[0m\u001b[1;33m\u001b[0m\u001b[1;33m\u001b[0m\u001b[0m\n\u001b[0m\u001b[0;32m    325\u001b[0m \u001b[1;33m\u001b[0m\u001b[0m\n\u001b[0;32m    326\u001b[0m \u001b[1;33m\u001b[0m\u001b[0m\n",
      "\u001b[1;32mc:\\Users\\Tom\\Documents\\GitHub\\Snake-DQN\\env\\gui.py\u001b[0m in \u001b[0;36mrender\u001b[1;34m(self, mode, user_control)\u001b[0m\n\u001b[0;32m     47\u001b[0m \u001b[1;33m\u001b[0m\u001b[0m\n\u001b[0;32m     48\u001b[0m             \u001b[1;32mif\u001b[0m \u001b[0mtime_diff\u001b[0m \u001b[1;33m<\u001b[0m \u001b[0mself\u001b[0m\u001b[1;33m.\u001b[0m\u001b[0mupdate_delay_sec\u001b[0m\u001b[1;33m:\u001b[0m\u001b[1;33m\u001b[0m\u001b[1;33m\u001b[0m\u001b[0m\n\u001b[1;32m---> 49\u001b[1;33m                 \u001b[0mpygame\u001b[0m\u001b[1;33m.\u001b[0m\u001b[0mtime\u001b[0m\u001b[1;33m.\u001b[0m\u001b[0mdelay\u001b[0m\u001b[1;33m(\u001b[0m\u001b[0mint\u001b[0m\u001b[1;33m(\u001b[0m\u001b[0mself\u001b[0m\u001b[1;33m.\u001b[0m\u001b[0mupdate_delay_sec\u001b[0m\u001b[1;33m*\u001b[0m\u001b[1;36m1000\u001b[0m \u001b[1;33m-\u001b[0m \u001b[0mtime_diff\u001b[0m\u001b[1;33m*\u001b[0m\u001b[1;36m1000\u001b[0m\u001b[1;33m)\u001b[0m\u001b[1;33m)\u001b[0m\u001b[1;33m\u001b[0m\u001b[1;33m\u001b[0m\u001b[0m\n\u001b[0m\u001b[0;32m     50\u001b[0m \u001b[1;33m\u001b[0m\u001b[0m\n\u001b[0;32m     51\u001b[0m         \u001b[0mself\u001b[0m\u001b[1;33m.\u001b[0m\u001b[0mwindow\u001b[0m \u001b[1;33m=\u001b[0m \u001b[0mpygame\u001b[0m\u001b[1;33m.\u001b[0m\u001b[0mdisplay\u001b[0m\u001b[1;33m.\u001b[0m\u001b[0mset_mode\u001b[0m\u001b[1;33m(\u001b[0m\u001b[1;33m(\u001b[0m\u001b[0mself\u001b[0m\u001b[1;33m.\u001b[0m\u001b[0mwindow_width\u001b[0m\u001b[1;33m,\u001b[0m \u001b[0mself\u001b[0m\u001b[1;33m.\u001b[0m\u001b[0mwindow_height\u001b[0m\u001b[1;33m)\u001b[0m\u001b[1;33m)\u001b[0m\u001b[1;33m\u001b[0m\u001b[1;33m\u001b[0m\u001b[0m\n",
      "\u001b[1;31mKeyboardInterrupt\u001b[0m: "
     ]
    }
   ],
   "source": [
    "agent.test(env, 10)"
   ]
  },
  {
   "source": [
    "env.close()"
   ],
   "cell_type": "markdown",
   "metadata": {}
  },
  {
   "cell_type": "code",
   "execution_count": 11,
   "metadata": {},
   "outputs": [],
   "source": [
    "env.close()"
   ]
  },
  {
   "cell_type": "code",
   "execution_count": null,
   "metadata": {},
   "outputs": [],
   "source": []
  }
 ]
}